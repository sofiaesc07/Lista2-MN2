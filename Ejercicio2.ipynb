{
 "cells": [
  {
   "cell_type": "code",
   "execution_count": 70,
   "metadata": {},
   "outputs": [],
   "source": [
    "##librerias\n",
    "import numpy as np\n",
    "from time import time"
   ]
  },
  {
   "cell_type": "markdown",
   "metadata": {},
   "source": [
    "### Metodo de Jacobi"
   ]
  },
  {
   "cell_type": "code",
   "execution_count": 71,
   "metadata": {},
   "outputs": [],
   "source": [
    "def jacobi(A, b, x0, epsilon, max_iter):\n",
    "    n = len(b)\n",
    "    x = x0.copy()\n",
    "    for _ in range(max_iter):\n",
    "        x_new = np.zeros_like(x)\n",
    "        for i in range(n):\n",
    "            x_new[i] = (b[i] - np.dot(A[i, :i], x[:i]) - np.dot(A[i, i+1:], x[i+1:])) / A[i, i]\n",
    "        if np.linalg.norm(x_new - x) < epsilon:\n",
    "            break\n",
    "        x = x_new\n",
    "    return x"
   ]
  },
  {
   "cell_type": "markdown",
   "metadata": {},
   "source": [
    "### Metodo de Seidel"
   ]
  },
  {
   "cell_type": "code",
   "execution_count": 72,
   "metadata": {},
   "outputs": [],
   "source": [
    "def gauss_seidel(A, b, x0, epsilon, max_iter):\n",
    "    n = len(b)\n",
    "    x = x0.copy()\n",
    "    for _ in range(max_iter):\n",
    "        for i in range(n):\n",
    "            x[i] = (b[i] - np.dot(A[i, :i], x[:i]) - np.dot(A[i, i+1:], x[i+1:])) / A[i, i]\n",
    "        if np.linalg.norm(A @ x - b) < epsilon:\n",
    "            break\n",
    "    return x"
   ]
  },
  {
   "cell_type": "markdown",
   "metadata": {},
   "source": [
    "### Método de JOR"
   ]
  },
  {
   "cell_type": "code",
   "execution_count": 73,
   "metadata": {},
   "outputs": [],
   "source": [
    "def jor(A, b, x0, epsilon, max_iter, omega):\n",
    "    n = len(b)\n",
    "    x = x0.copy()\n",
    "    for _ in range(max_iter):\n",
    "        x_new = np.zeros_like(x)\n",
    "        for i in range(n):\n",
    "            x_new[i] = (1 - omega) * x[i] + (omega / A[i, i]) * (b[i] - np.dot(A[i, :i], x_new[:i]) - np.dot(A[i, i+1:], x[i+1:]))\n",
    "        if np.linalg.norm(x_new - x) < epsilon:\n",
    "            break\n",
    "        x = x_new\n",
    "    return x"
   ]
  },
  {
   "cell_type": "code",
   "execution_count": 74,
   "metadata": {},
   "outputs": [],
   "source": [
    "def sor(A, b, x0, epsilon, max_iter, omega):\n",
    "    n = len(b)\n",
    "    x = x0.copy()\n",
    "    for _ in range(max_iter):\n",
    "        for i in range(n):\n",
    "            x[i] = (1 - omega) * x[i] + (omega / A[i, i]) * (b[i] - np.dot(A[i, :i], x[:i]) - np.dot(A[i, i+1:], x[i+1:]))\n",
    "        if np.linalg.norm(A @ x - b) < epsilon:\n",
    "            break\n",
    "    return x"
   ]
  },
  {
   "cell_type": "code",
   "execution_count": 75,
   "metadata": {},
   "outputs": [],
   "source": [
    "# Sistema tridiagonal\n",
    "n = 100\n",
    "diagonal = np.ones(n) * 4\n",
    "off_diagonal = np.ones(n - 1) * -1\n",
    "A = np.diag(diagonal) + np.diag(off_diagonal, -1) + np.diag(off_diagonal, 1)\n",
    "b = np.ones(n) * 2\n",
    "b[0] = 3  # Cambiar el primer elemento a 3\n",
    "b[-1] = 3  # Cambiar el último elemento a 3\n",
    "x_exact = np.ones(n)"
   ]
  },
  {
   "cell_type": "code",
   "execution_count": 76,
   "metadata": {},
   "outputs": [],
   "source": [
    "x0 = np.zeros(n)\n",
    "epsilon = 1e-10\n",
    "max_iter = 100000\n",
    "omega_jor = 1.5\n",
    "omega_sor = 1.05"
   ]
  },
  {
   "cell_type": "code",
   "execution_count": 77,
   "metadata": {},
   "outputs": [],
   "source": [
    "x_jacobi = jacobi(A, b, x0, epsilon, max_iter)\n",
    "x_gauss_seidel = gauss_seidel(A, b, x0, epsilon, max_iter)\n",
    "x_jor = jor(A, b, x0, epsilon, max_iter, omega_jor)\n",
    "x_sor = sor(A, b, x0, epsilon, max_iter, omega_sor)"
   ]
  },
  {
   "cell_type": "code",
   "execution_count": 78,
   "metadata": {},
   "outputs": [
    {
     "name": "stdout",
     "output_type": "stream",
     "text": [
      "Metodo Jacobi:\n",
      "[1. 1. 1. 1. 1. 1. 1. 1. 1. 1. 1. 1. 1. 1. 1. 1. 1. 1. 1. 1. 1. 1. 1. 1.\n",
      " 1. 1. 1. 1. 1. 1. 1. 1. 1. 1. 1. 1. 1. 1. 1. 1. 1. 1. 1. 1. 1. 1. 1. 1.\n",
      " 1. 1. 1. 1. 1. 1. 1. 1. 1. 1. 1. 1. 1. 1. 1. 1. 1. 1. 1. 1. 1. 1. 1. 1.\n",
      " 1. 1. 1. 1. 1. 1. 1. 1. 1. 1. 1. 1. 1. 1. 1. 1. 1. 1. 1. 1. 1. 1. 1. 1.\n",
      " 1. 1. 1. 1.]\n"
     ]
    }
   ],
   "source": [
    "print(f\"Metodo Jacobi:\\n{x_jacobi}\")"
   ]
  },
  {
   "cell_type": "code",
   "execution_count": 79,
   "metadata": {},
   "outputs": [
    {
     "name": "stdout",
     "output_type": "stream",
     "text": [
      "Metodo Gauss-Seidel:\n",
      "[1. 1. 1. 1. 1. 1. 1. 1. 1. 1. 1. 1. 1. 1. 1. 1. 1. 1. 1. 1. 1. 1. 1. 1.\n",
      " 1. 1. 1. 1. 1. 1. 1. 1. 1. 1. 1. 1. 1. 1. 1. 1. 1. 1. 1. 1. 1. 1. 1. 1.\n",
      " 1. 1. 1. 1. 1. 1. 1. 1. 1. 1. 1. 1. 1. 1. 1. 1. 1. 1. 1. 1. 1. 1. 1. 1.\n",
      " 1. 1. 1. 1. 1. 1. 1. 1. 1. 1. 1. 1. 1. 1. 1. 1. 1. 1. 1. 1. 1. 1. 1. 1.\n",
      " 1. 1. 1. 1.]\n"
     ]
    }
   ],
   "source": [
    "print(f\"Metodo Gauss-Seidel:\\n{x_gauss_seidel}\")"
   ]
  },
  {
   "cell_type": "code",
   "execution_count": 80,
   "metadata": {},
   "outputs": [
    {
     "name": "stdout",
     "output_type": "stream",
     "text": [
      "Metodo JOR:\n",
      "[1. 1. 1. 1. 1. 1. 1. 1. 1. 1. 1. 1. 1. 1. 1. 1. 1. 1. 1. 1. 1. 1. 1. 1.\n",
      " 1. 1. 1. 1. 1. 1. 1. 1. 1. 1. 1. 1. 1. 1. 1. 1. 1. 1. 1. 1. 1. 1. 1. 1.\n",
      " 1. 1. 1. 1. 1. 1. 1. 1. 1. 1. 1. 1. 1. 1. 1. 1. 1. 1. 1. 1. 1. 1. 1. 1.\n",
      " 1. 1. 1. 1. 1. 1. 1. 1. 1. 1. 1. 1. 1. 1. 1. 1. 1. 1. 1. 1. 1. 1. 1. 1.\n",
      " 1. 1. 1. 1.]\n"
     ]
    }
   ],
   "source": [
    "print(f\"Metodo JOR:\\n{x_jor}\")"
   ]
  },
  {
   "cell_type": "code",
   "execution_count": 81,
   "metadata": {},
   "outputs": [
    {
     "name": "stdout",
     "output_type": "stream",
     "text": [
      "Metodo SOR:\n",
      "[1. 1. 1. 1. 1. 1. 1. 1. 1. 1. 1. 1. 1. 1. 1. 1. 1. 1. 1. 1. 1. 1. 1. 1.\n",
      " 1. 1. 1. 1. 1. 1. 1. 1. 1. 1. 1. 1. 1. 1. 1. 1. 1. 1. 1. 1. 1. 1. 1. 1.\n",
      " 1. 1. 1. 1. 1. 1. 1. 1. 1. 1. 1. 1. 1. 1. 1. 1. 1. 1. 1. 1. 1. 1. 1. 1.\n",
      " 1. 1. 1. 1. 1. 1. 1. 1. 1. 1. 1. 1. 1. 1. 1. 1. 1. 1. 1. 1. 1. 1. 1. 1.\n",
      " 1. 1. 1. 1.]\n"
     ]
    }
   ],
   "source": [
    "print(f\"Metodo SOR:\\n{x_sor}\")"
   ]
  },
  {
   "cell_type": "code",
   "execution_count": 82,
   "metadata": {},
   "outputs": [],
   "source": [
    "error_jacobi = np.linalg.norm(x_jacobi - x_exact)\n",
    "error_gauss_seidel = np.linalg.norm(x_gauss_seidel - x_exact)\n",
    "error_jor = np.linalg.norm(x_jor - x_exact)\n",
    "error_sor = np.linalg.norm(x_sor - x_exact)"
   ]
  },
  {
   "cell_type": "code",
   "execution_count": 83,
   "metadata": {},
   "outputs": [],
   "source": [
    "# Definir las funciones para cada método (x_jacobi, x_gauss_seidel, etc.)\n",
    "\n",
    "methods = [\"Jacobi\", \"Gauss-Seidel\", \"JOR\", \"SOR\"]\n",
    "errors = []\n",
    "times = []\n",
    "\n",
    "for method in methods:\n",
    "    start_time = time()\n",
    "    \n",
    "    if method == \"Jacobi\":\n",
    "        x = jacobi(A, b, x0, epsilon, max_iter)\n",
    "    elif method == \"Gauss-Seidel\":\n",
    "        x = gauss_seidel(A, b, x0, epsilon, max_iter)\n",
    "    elif method == \"JOR\":\n",
    "        x = jor(A, b, x0, epsilon, max_iter, omega_jor)\n",
    "    elif method == \"SOR\":\n",
    "        x = sor(A, b, x0, epsilon, max_iter, omega_sor)\n",
    "    \n",
    "    end_time = time()\n",
    "    \n",
    "    times.append(end_time - start_time)\n",
    "    error = np.linalg.norm(np.dot(A, x) - b)\n",
    "    errors.append(error)"
   ]
  },
  {
   "cell_type": "code",
   "execution_count": 84,
   "metadata": {},
   "outputs": [
    {
     "name": "stdout",
     "output_type": "stream",
     "text": [
      "Metodo          Error           Tiempo         \n",
      "----------------------------------------\n",
      "Jacobi          2.7240e-10    0.0165 s\n",
      "Gauss-Seidel    6.4063e-11    0.0160 s\n",
      "JOR             2.3529e-10    0.0240 s\n",
      "SOR             8.0439e-11    0.0140 s\n"
     ]
    }
   ],
   "source": [
    "# Imprimir la tabla alineada\n",
    "print(\"{:<15} {:<15} {:<15}\".format(\"Metodo\", \"Error\", \"Tiempo\"))\n",
    "print(\"-\" * 40)\n",
    "for i in range(len(methods)):\n",
    "    print(\"{:<15} {:.4e}    {:.4f} s\".format(methods[i], errors[i], times[i]))"
   ]
  },
  {
   "cell_type": "markdown",
   "metadata": {},
   "source": [
    "Podemos concluir que el método SOR parece ser el mejor entre los mencionados, ya que tiene el error más bajo. Los errores para los demás métodos (Jacobi, Gauss-Seidel y JOR) son ligeramente más altos que el error del método SOR. En tiempo el metodo iterativo más rapido fue Gauss-Seidel y SOR.  Consideramos que el mejor metodo en este caso fue el de Gauss-Seidel ya que fue el que tuvo el error más bajo y el tiempo es considerablemente bajo. "
   ]
  }
 ],
 "metadata": {
  "kernelspec": {
   "display_name": "Python 3",
   "language": "python",
   "name": "python3"
  },
  "language_info": {
   "codemirror_mode": {
    "name": "ipython",
    "version": 3
   },
   "file_extension": ".py",
   "mimetype": "text/x-python",
   "name": "python",
   "nbconvert_exporter": "python",
   "pygments_lexer": "ipython3",
   "version": "3.11.1"
  },
  "orig_nbformat": 4
 },
 "nbformat": 4,
 "nbformat_minor": 2
}
