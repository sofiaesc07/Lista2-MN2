{
 "cells": [
  {
   "cell_type": "code",
   "execution_count": 8,
   "metadata": {},
   "outputs": [],
   "source": [
    "##librerias\n",
    "import numpy as np\n"
   ]
  },
  {
   "cell_type": "code",
   "execution_count": 9,
   "metadata": {},
   "outputs": [],
   "source": [
    "def jacobi(A, b, x0, epsilon, max_iter):\n",
    "    n = len(b)\n",
    "    x = x0.copy()\n",
    "    for _ in range(max_iter):\n",
    "        x_new = np.zeros_like(x)\n",
    "        for i in range(n):\n",
    "            x_new[i] = (b[i] - np.dot(A[i, :i], x[:i]) - np.dot(A[i, i+1:], x[i+1:])) / A[i, i]\n",
    "        if np.linalg.norm(x_new - x) < epsilon:\n",
    "            break\n",
    "        x = x_new\n",
    "    return x"
   ]
  },
  {
   "cell_type": "code",
   "execution_count": 10,
   "metadata": {},
   "outputs": [],
   "source": [
    "def gauss_seidel(A, b, x0, epsilon, max_iter):\n",
    "    n = len(b)\n",
    "    x = x0.copy()\n",
    "    for _ in range(max_iter):\n",
    "        for i in range(n):\n",
    "            x[i] = (b[i] - np.dot(A[i, :i], x[:i]) - np.dot(A[i, i+1:], x[i+1:])) / A[i, i]\n",
    "        if np.linalg.norm(A @ x - b) < epsilon:\n",
    "            break\n",
    "    return x"
   ]
  },
  {
   "cell_type": "code",
   "execution_count": 11,
   "metadata": {},
   "outputs": [],
   "source": [
    "def jor(A, b, x0, epsilon, max_iter, omega):\n",
    "    n = len(b)\n",
    "    x = x0.copy()\n",
    "    for _ in range(max_iter):\n",
    "        x_new = np.zeros_like(x)\n",
    "        for i in range(n):\n",
    "            x_new[i] = (1 - omega) * x[i] + (omega / A[i, i]) * (b[i] - np.dot(A[i, :i], x_new[:i]) - np.dot(A[i, i+1:], x[i+1:]))\n",
    "        if np.linalg.norm(x_new - x) < epsilon:\n",
    "            break\n",
    "        x = x_new\n",
    "    return x"
   ]
  },
  {
   "cell_type": "code",
   "execution_count": 12,
   "metadata": {},
   "outputs": [],
   "source": [
    "def sor(A, b, x0, epsilon, max_iter, omega):\n",
    "    n = len(b)\n",
    "    x = x0.copy()\n",
    "    for _ in range(max_iter):\n",
    "        for i in range(n):\n",
    "            x[i] = (1 - omega) * x[i] + (omega / A[i, i]) * (b[i] - np.dot(A[i, :i], x[:i]) - np.dot(A[i, i+1:], x[i+1:]))\n",
    "        if np.linalg.norm(A @ x - b) < epsilon:\n",
    "            break\n",
    "    return x"
   ]
  },
  {
   "cell_type": "code",
   "execution_count": 36,
   "metadata": {},
   "outputs": [],
   "source": [
    "# Sistema tridiagonal\n",
    "n = 10000\n",
    "diagonal = np.ones(n) * 4\n",
    "off_diagonal = np.ones(n - 1) * -1\n",
    "A = np.diag(diagonal) + np.diag(off_diagonal, -1) + np.diag(off_diagonal, 1)\n",
    "b = np.ones(n) * 2\n",
    "x_exact = np.ones(n)"
   ]
  },
  {
   "cell_type": "code",
   "execution_count": 37,
   "metadata": {},
   "outputs": [],
   "source": [
    "x0 = np.zeros(n)\n",
    "epsilon = 1e-6\n",
    "max_iter = 10000\n",
    "omega_jor = 1.5\n",
    "omega_sor = 1.25"
   ]
  },
  {
   "cell_type": "code",
   "execution_count": 38,
   "metadata": {},
   "outputs": [],
   "source": [
    "x_jacobi = jacobi(A, b, x0, epsilon, max_iter)\n",
    "x_gauss_seidel = gauss_seidel(A, b, x0, epsilon, max_iter)\n",
    "x_jor = jor(A, b, x0, epsilon, max_iter, omega_jor)\n",
    "x_sor = sor(A, b, x0, epsilon, max_iter, omega_sor)"
   ]
  },
  {
   "cell_type": "code",
   "execution_count": 39,
   "metadata": {},
   "outputs": [
    {
     "name": "stdout",
     "output_type": "stream",
     "text": [
      "Metodo Jacobi:\n",
      "[0.73205081 0.92820323 0.98076211 ... 0.98076211 0.92820323 0.73205081]\n"
     ]
    }
   ],
   "source": [
    "print(f\"Metodo Jacobi:\\n{x_jacobi}\")"
   ]
  },
  {
   "cell_type": "code",
   "execution_count": 40,
   "metadata": {},
   "outputs": [
    {
     "name": "stdout",
     "output_type": "stream",
     "text": [
      "Metodo Gauss-Seidel:\n",
      "[0.73205081 0.92820323 0.98076211 ... 0.98076211 0.92820323 0.73205081]\n"
     ]
    }
   ],
   "source": [
    "print(f\"Metodo Gauss-Seidel:\\n{x_gauss_seidel}\")\n"
   ]
  },
  {
   "cell_type": "code",
   "execution_count": 41,
   "metadata": {},
   "outputs": [
    {
     "name": "stdout",
     "output_type": "stream",
     "text": [
      "Metodo OR:\n",
      "[0.73205081 0.92820323 0.98076211 ... 0.98076211 0.92820323 0.73205081]\n"
     ]
    }
   ],
   "source": [
    "print(f\"Metodo OR:\\n{x_jor}\")"
   ]
  },
  {
   "cell_type": "code",
   "execution_count": 42,
   "metadata": {},
   "outputs": [
    {
     "name": "stdout",
     "output_type": "stream",
     "text": [
      "Metodo SOR:\n",
      "[0.73205081 0.92820323 0.98076211 ... 0.98076211 0.92820323 0.73205081]\n"
     ]
    }
   ],
   "source": [
    "print(f\"Metodo SOR:\\n{x_sor}\")"
   ]
  },
  {
   "cell_type": "code",
   "execution_count": 43,
   "metadata": {},
   "outputs": [],
   "source": [
    "error_jacobi = np.linalg.norm(x_jacobi - x_exact)\n",
    "error_gauss_seidel = np.linalg.norm(x_gauss_seidel - x_exact)\n",
    "error_jor = np.linalg.norm(x_jor - x_exact)\n",
    "error_sor = np.linalg.norm(x_sor - x_exact)"
   ]
  },
  {
   "cell_type": "code",
   "execution_count": 44,
   "metadata": {},
   "outputs": [
    {
     "name": "stdout",
     "output_type": "stream",
     "text": [
      "Error Jacobi: 0.3933198988221523\n",
      "Error Gauss-Seidel: 0.39331989494951225\n",
      "Error JOR: 0.3933198931927035\n",
      "Error SOR: 0.3933198931908167\n"
     ]
    }
   ],
   "source": [
    "print(f\"Error Jacobi: {error_jacobi}\")\n",
    "print(f\"Error Gauss-Seidel: {error_gauss_seidel}\")\n",
    "print(f\"Error JOR: {error_jor}\")\n",
    "print(f\"Error SOR: {error_sor}\")"
   ]
  }
 ],
 "metadata": {
  "kernelspec": {
   "display_name": "Python 3",
   "language": "python",
   "name": "python3"
  },
  "language_info": {
   "codemirror_mode": {
    "name": "ipython",
    "version": 3
   },
   "file_extension": ".py",
   "mimetype": "text/x-python",
   "name": "python",
   "nbconvert_exporter": "python",
   "pygments_lexer": "ipython3",
   "version": "3.11.1"
  },
  "orig_nbformat": 4
 },
 "nbformat": 4,
 "nbformat_minor": 2
}
