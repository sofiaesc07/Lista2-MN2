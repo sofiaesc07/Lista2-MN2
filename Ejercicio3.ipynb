{
 "cells": [
  {
   "cell_type": "code",
   "execution_count": 1,
   "metadata": {},
   "outputs": [],
   "source": [
    "#librerias\n",
    "import numpy as np\n",
    "from scipy.linalg import hilbert, lu, qr"
   ]
  },
  {
   "cell_type": "code",
   "execution_count": 2,
   "metadata": {},
   "outputs": [
    {
     "name": "stdout",
     "output_type": "stream",
     "text": [
      "Número de condición de la matriz de Hilbert:\n",
      "n = 2: 19.28147006790397\n",
      "n = 3: 524.0567775860644\n",
      "n = 5: 476607.2502422687\n",
      "n = 10: 16024413500363.82\n",
      "n = 15: 3.67568286586649e+17\n",
      "n = 20: 1.3193976166344822e+18\n",
      "n = 25: 1.3309197553221074e+18\n"
     ]
    }
   ],
   "source": [
    "# Parte A: Calcular el número de condición de la matriz de Hilbert\n",
    "ns = [2, 3, 5, 10, 15, 20, 25]\n",
    "condition_numbers = []\n",
    "\n",
    "for n in ns:\n",
    "    H = hilbert(n)\n",
    "    condition_number = np.linalg.cond(H)\n",
    "    condition_numbers.append(condition_number)\n",
    "\n",
    "print(\"Número de condición de la matriz de Hilbert:\")\n",
    "for n, cn in zip(ns, condition_numbers):\n",
    "    print(f\"n = {n}: {cn}\")"
   ]
  },
  {
   "cell_type": "code",
   "execution_count": 5,
   "metadata": {},
   "outputs": [],
   "source": [
    "# Parte B: Aproximar f(x) = Σₖ sin(kπx) usando el método LU\n",
    "def f(x, k):\n",
    "    return np.sin(k * np.pi * x)\n",
    "\n",
    "n = 20\n",
    "A = hilbert(n)\n",
    "b = np.zeros(n)\n",
    "for k in range(1, 18):\n",
    "    b += f(np.linspace(0, 1, n), k)\n",
    "\n",
    "P, L, U = lu(A)\n",
    "c = np.linalg.solve(P @ L @ U, b)\n"
   ]
  },
  {
   "cell_type": "code",
   "execution_count": 6,
   "metadata": {},
   "outputs": [],
   "source": [
    "# Parte C: Aproximar f(x) = Σₖ sin(kπx) usando el método QR\n",
    "b = np.zeros(n)\n",
    "for k in range(1, 18):\n",
    "    b += f(np.linspace(0, 1, n), k)\n",
    "\n",
    "Q, R = qr(A)\n",
    "c_qr = np.linalg.solve(R, Q.T @ b)\n"
   ]
  },
  {
   "cell_type": "code",
   "execution_count": 7,
   "metadata": {},
   "outputs": [
    {
     "name": "stdout",
     "output_type": "stream",
     "text": [
      "\n",
      "Errores de aproximación:\n",
      "Error LU: 8786919645.447546\n",
      "Error QR: 929546402.255279\n"
     ]
    }
   ],
   "source": [
    "# Comparación de las aproximaciones\n",
    "x_values = np.linspace(0, 1, n)\n",
    "approximation_lu = np.sum(np.array([c[i] * x_values ** i for i in range(n)]), axis=0)\n",
    "approximation_qr = np.sum(np.array([c_qr[i] * x_values ** i for i in range(n)]), axis=0)\n",
    "exact_values = np.sum(np.array([f(x_values, k) for k in range(1, 18)]), axis=0)\n",
    "\n",
    "error_lu = np.linalg.norm(approximation_lu - exact_values)\n",
    "error_qr = np.linalg.norm(approximation_qr - exact_values)\n",
    "\n",
    "print(\"\\nErrores de aproximación:\")\n",
    "print(f\"Error LU: {error_lu}\")\n",
    "print(f\"Error QR: {error_qr}\")"
   ]
  }
 ],
 "metadata": {
  "kernelspec": {
   "display_name": "Python 3",
   "language": "python",
   "name": "python3"
  },
  "language_info": {
   "codemirror_mode": {
    "name": "ipython",
    "version": 3
   },
   "file_extension": ".py",
   "mimetype": "text/x-python",
   "name": "python",
   "nbconvert_exporter": "python",
   "pygments_lexer": "ipython3",
   "version": "3.11.1"
  },
  "orig_nbformat": 4
 },
 "nbformat": 4,
 "nbformat_minor": 2
}
